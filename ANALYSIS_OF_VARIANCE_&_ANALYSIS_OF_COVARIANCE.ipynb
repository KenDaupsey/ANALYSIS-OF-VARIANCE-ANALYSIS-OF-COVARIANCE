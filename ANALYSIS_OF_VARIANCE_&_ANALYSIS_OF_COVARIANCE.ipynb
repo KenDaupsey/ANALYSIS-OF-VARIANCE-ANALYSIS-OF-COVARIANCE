{
  "nbformat": 4,
  "nbformat_minor": 0,
  "metadata": {
    "colab": {
      "provenance": [],
      "authorship_tag": "ABX9TyPZ3YHPVx4ySvCxiEwC586j",
      "include_colab_link": true
    },
    "kernelspec": {
      "name": "python3",
      "display_name": "Python 3"
    },
    "language_info": {
      "name": "python"
    }
  },
  "cells": [
    {
      "cell_type": "markdown",
      "metadata": {
        "id": "view-in-github",
        "colab_type": "text"
      },
      "source": [
        "<a href=\"https://colab.research.google.com/github/KenDaupsey/ANALYSIS-OF-VARIANCE-ANALYSIS-OF-COVARIANCE/blob/main/ANALYSIS_OF_VARIANCE_%26_ANALYSIS_OF_COVARIANCE.ipynb\" target=\"_parent\"><img src=\"https://colab.research.google.com/assets/colab-badge.svg\" alt=\"Open In Colab\"/></a>"
      ]
    },
    {
      "cell_type": "code",
      "execution_count": null,
      "metadata": {
        "id": "6HD-Qh43dKMS"
      },
      "outputs": [],
      "source": []
    },
    {
      "cell_type": "markdown",
      "source": [
        "*** ANALYSIS OF VARIANCE***\n",
        "*** ANALYSIS OF COVARIANCE***"
      ],
      "metadata": {
        "id": "IqBg76WcdlK7"
      }
    },
    {
      "cell_type": "markdown",
      "source": [
        "*ANALYSIS OF VARIANCE - ANOVA*"
      ],
      "metadata": {
        "id": "9Ujk3bIIeNRV"
      }
    },
    {
      "cell_type": "code",
      "source": [
        "# Importing the required libraries\n",
        "import pandas as pd\n",
        "import numpy as np\n",
        "import matplotlib.pyplot as plt"
      ],
      "metadata": {
        "id": "YqHLvNV2etlI"
      },
      "execution_count": 12,
      "outputs": []
    },
    {
      "cell_type": "code",
      "source": [
        "# Load the dataset from GitHub URL\n",
        "url = \"https://raw.githubusercontent.com/KenDaupsey/ANALYSIS-OF-VARIANCE-ANALYSIS-OF-COVARIANCE/main/hsb2%7Edata.csv\"\n",
        "df = pd.read_csv(url)"
      ],
      "metadata": {
        "id": "nxyF5lj8e22U"
      },
      "execution_count": 13,
      "outputs": []
    },
    {
      "cell_type": "code",
      "source": [
        "# Print columns\n",
        "print(df.columns)"
      ],
      "metadata": {
        "colab": {
          "base_uri": "https://localhost:8080/"
        },
        "id": "lD5dqLAzfFVQ",
        "outputId": "1a278f99-00ae-451c-b276-3305f5d18015"
      },
      "execution_count": 14,
      "outputs": [
        {
          "output_type": "stream",
          "name": "stdout",
          "text": [
            "Index(['id', 'female', 'race', 'ses', 'schtyp', 'prog', 'read', 'write',\n",
            "       'math', 'science', 'socst'],\n",
            "      dtype='object')\n"
          ]
        }
      ]
    },
    {
      "cell_type": "code",
      "source": [
        "### Import statistical analysis library\n",
        "from scipy import stats\n",
        "import statsmodels.api as sm\n",
        "from statsmodels.formula.api import ols"
      ],
      "metadata": {
        "id": "s9mstV-4fIr5"
      },
      "execution_count": 15,
      "outputs": []
    },
    {
      "cell_type": "code",
      "source": [
        "### We carry out the ANOVA procedure:\n",
        "\n",
        "import statsmodels.api as sm\n",
        "from statsmodels.formula.api import ols\n",
        "\n",
        "# Assuming df is your DataFrame\n",
        "# One-way ANOVA\n",
        "model = ols('write ~ prog', df).fit()\n",
        "aov_table = sm.stats.anova_lm(model)\n",
        "\n",
        "# Round the p-values to four decimal places\n",
        "aov_table['PR(>F)'] = aov_table['PR(>F)'].round(4)\n",
        "\n",
        "# Print the ANOVA table with rounded p-values\n",
        "print(aov_table)"
      ],
      "metadata": {
        "colab": {
          "base_uri": "https://localhost:8080/"
        },
        "id": "rAi1Hzg8fRCq",
        "outputId": "1770156c-aa87-4ba8-95c4-31ef60ee9f88"
      },
      "execution_count": 16,
      "outputs": [
        {
          "output_type": "stream",
          "name": "stdout",
          "text": [
            "             df        sum_sq      mean_sq          F  PR(>F)\n",
            "prog        2.0   3175.697857  1587.848929  21.274738     0.0\n",
            "Residual  197.0  14703.177143    74.635417        NaN     NaN\n"
          ]
        }
      ]
    },
    {
      "cell_type": "code",
      "source": [
        "### Check for degree of freedom\n",
        "import statsmodels.api as sm\n",
        "from statsmodels.formula.api import ols\n",
        "\n",
        "# Assuming df is your DataFrame\n",
        "# One-way ANOVA\n",
        "model = ols('write ~ prog', df).fit()\n",
        "aov_table = sm.stats.anova_lm(model)\n",
        "\n",
        "# Calculate degrees of freedom\n",
        "total_df = len(df) - 1\n",
        "between_df = len(df['prog'].unique()) - 1\n",
        "within_df = total_df - between_df\n",
        "\n",
        "# Print degrees of freedom\n",
        "print(f\"Between-group (prog) degrees of freedom: {between_df}\")\n",
        "print(f\"Within-group (Residual) degrees of freedom: {within_df}\")\n",
        "\n",
        "# Print the ANOVA table\n",
        "print(aov_table)"
      ],
      "metadata": {
        "colab": {
          "base_uri": "https://localhost:8080/"
        },
        "id": "9s-1eMlNfViQ",
        "outputId": "8135d0e2-6711-48fd-b441-c409d5431786"
      },
      "execution_count": 17,
      "outputs": [
        {
          "output_type": "stream",
          "name": "stdout",
          "text": [
            "Between-group (prog) degrees of freedom: 2\n",
            "Within-group (Residual) degrees of freedom: 197\n",
            "             df        sum_sq      mean_sq          F        PR(>F)\n",
            "prog        2.0   3175.697857  1587.848929  21.274738  4.310163e-09\n",
            "Residual  197.0  14703.177143    74.635417        NaN           NaN\n"
          ]
        }
      ]
    },
    {
      "cell_type": "code",
      "source": [
        "### Summary of ANOVA\n",
        "import pandas as pd\n",
        "\n",
        "# Assuming df is your DataFrame\n",
        "# Group by 'prog' and summarize 'write'\n",
        "summary_table = df.groupby('prog')['write'].describe()\n",
        "\n",
        "# Print the summary table\n",
        "print(summary_table)"
      ],
      "metadata": {
        "colab": {
          "base_uri": "https://localhost:8080/"
        },
        "id": "ngLQQHwDfZxc",
        "outputId": "5bbeeb07-4dbf-4622-e257-9e828a3fc6f3"
      },
      "execution_count": 18,
      "outputs": [
        {
          "output_type": "stream",
          "name": "stdout",
          "text": [
            "          count       mean       std   min    25%   50%   75%   max\n",
            "prog                                                               \n",
            "academic  105.0  56.257143  7.943343  33.0  52.00  59.0  62.0  67.0\n",
            "general    45.0  51.333333  9.397775  31.0  44.00  54.0  59.0  67.0\n",
            "vocation   50.0  46.760000  9.318754  31.0  40.25  46.0  53.5  67.0\n"
          ]
        }
      ]
    },
    {
      "cell_type": "code",
      "source": [],
      "metadata": {
        "id": "mELgi4qsfdVS"
      },
      "execution_count": 18,
      "outputs": []
    },
    {
      "cell_type": "markdown",
      "source": [
        "*Two-way ANOVA*"
      ],
      "metadata": {
        "id": "7qPP6sZcfhG3"
      }
    },
    {
      "cell_type": "code",
      "source": [
        "### TWO-WAY ANOVA without Interaction\n",
        "import statsmodels.api as sm\n",
        "from statsmodels.formula.api import ols\n",
        "\n",
        "# Assuming 'df' is your DataFrame\n",
        "model = ols('write ~ C(ses) + C(prog)', data=df).fit()\n",
        "\n",
        "anova_table = sm.stats.anova_lm(model, typ=2)\n",
        "# Round the p-values to 4 decimal places\n",
        "anova_table['PR(>F)'] = anova_table['PR(>F)'].round(4)\n",
        "\n",
        "print(anova_table)"
      ],
      "metadata": {
        "colab": {
          "base_uri": "https://localhost:8080/"
        },
        "id": "oLsOQwkPfjpN",
        "outputId": "e8dc5b44-effa-48fe-bef0-8127717172c8"
      },
      "execution_count": 19,
      "outputs": [
        {
          "output_type": "stream",
          "name": "stdout",
          "text": [
            "                sum_sq     df          F  PR(>F)\n",
            "C(ses)      274.229561    2.0   1.853038  0.1595\n",
            "C(prog)    2591.211977    2.0  17.509466  0.0000\n",
            "Residual  14428.947582  195.0        NaN     NaN\n"
          ]
        }
      ]
    },
    {
      "cell_type": "code",
      "source": [
        "### nclude the interaction term between 'ses' and 'prog' in the model\n",
        "import statsmodels.api as sm\n",
        "from statsmodels.formula.api import ols\n",
        "\n",
        "# Assuming 'df' is your DataFrame\n",
        "model = ols('write ~ C(ses) * C(prog)', data=df).fit()\n",
        "\n",
        "# Alternatively, to explicitly include the interaction term\n",
        "#model = ols('write ~ C(ses) + C(prog) + C(ses):C(prog)', data=df).fit()\n",
        "\n",
        "anova_table = sm.stats.anova_lm(model, typ=2)\n",
        "# Round the p-values to 4 decimal places\n",
        "anova_table['PR(>F)'] = anova_table['PR(>F)'].round(4)\n",
        "\n",
        "print(anova_table)"
      ],
      "metadata": {
        "colab": {
          "base_uri": "https://localhost:8080/"
        },
        "id": "g9d4KaxKfoEs",
        "outputId": "f501d5b5-5342-4b17-e831-cf3c64ff1bd3"
      },
      "execution_count": 20,
      "outputs": [
        {
          "output_type": "stream",
          "name": "stdout",
          "text": [
            "                      sum_sq     df          F  PR(>F)\n",
            "C(ses)            274.229561    2.0   1.835742  0.1623\n",
            "C(prog)          2591.211977    2.0  17.346042  0.0000\n",
            "C(ses):C(prog)    162.825721    4.0   0.544992  0.7029\n",
            "Residual        14266.121861  191.0        NaN     NaN\n"
          ]
        }
      ]
    },
    {
      "cell_type": "code",
      "source": [],
      "metadata": {
        "id": "I41inxIBfyJn"
      },
      "execution_count": 20,
      "outputs": []
    },
    {
      "cell_type": "markdown",
      "source": [
        "*Analysis of covariance (ANCOVA)*"
      ],
      "metadata": {
        "id": "DbdQ018Mf296"
      }
    },
    {
      "cell_type": "code",
      "source": [
        "import pandas as pd\n",
        "import statsmodels.api as sm\n",
        "from statsmodels.formula.api import ols\n",
        "\n",
        "# Assuming df is your DataFrame with the given structure\n",
        "\n",
        "# Define the ANACOVA model with a continuous covariate\n",
        "formula = 'write ~ female + math'\n",
        "\n",
        "# Fit the ANCOVA model\n",
        "model = ols(formula, data=df).fit()\n",
        "\n",
        "# Display the ANCOVA summary\n",
        "print(model.summary())"
      ],
      "metadata": {
        "colab": {
          "base_uri": "https://localhost:8080/"
        },
        "id": "lRoXihKPf7MV",
        "outputId": "72b6fa30-9936-414c-daf7-a0a630fb6b7c"
      },
      "execution_count": 21,
      "outputs": [
        {
          "output_type": "stream",
          "name": "stdout",
          "text": [
            "                            OLS Regression Results                            \n",
            "==============================================================================\n",
            "Dep. Variable:                  write   R-squared:                       0.457\n",
            "Model:                            OLS   Adj. R-squared:                  0.451\n",
            "Method:                 Least Squares   F-statistic:                     82.81\n",
            "Date:                Sat, 02 Mar 2024   Prob (F-statistic):           7.94e-27\n",
            "Time:                        19:04:06   Log-Likelihood:                -672.08\n",
            "No. Observations:                 200   AIC:                             1350.\n",
            "Df Residuals:                     197   BIC:                             1360.\n",
            "Df Model:                           2                                         \n",
            "Covariance Type:            nonrobust                                         \n",
            "==================================================================================\n",
            "                     coef    std err          t      P>|t|      [0.025      0.975]\n",
            "----------------------------------------------------------------------------------\n",
            "Intercept         21.8321      2.865      7.620      0.000      16.182      27.482\n",
            "female[T.male]    -5.2184      0.998     -5.231      0.000      -7.186      -3.251\n",
            "math               0.6329      0.053     11.906      0.000       0.528       0.738\n",
            "==============================================================================\n",
            "Omnibus:                        1.806   Durbin-Watson:                   2.016\n",
            "Prob(Omnibus):                  0.405   Jarque-Bera (JB):                1.529\n",
            "Skew:                          -0.207   Prob(JB):                        0.466\n",
            "Kurtosis:                       3.107   Cond. No.                         309.\n",
            "==============================================================================\n",
            "\n",
            "Notes:\n",
            "[1] Standard Errors assume that the covariance matrix of the errors is correctly specified.\n"
          ]
        }
      ]
    },
    {
      "cell_type": "code",
      "source": [],
      "metadata": {
        "id": "6XYktVTVgBwc"
      },
      "execution_count": 21,
      "outputs": []
    }
  ]
}